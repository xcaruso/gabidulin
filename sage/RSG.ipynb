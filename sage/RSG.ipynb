{
 "cells": [
  {
   "cell_type": "code",
   "execution_count": 1,
   "metadata": {},
   "outputs": [],
   "source": [
    "import sys\n",
    "sys.path.insert(0, \"/home/xcaruso/travail/articles/gabidulin/sage\")"
   ]
  },
  {
   "cell_type": "code",
   "execution_count": 2,
   "metadata": {},
   "outputs": [],
   "source": [
    "from Ore_polynomial_ring_constructor import OrePolynomialRing1\n",
    "from Ore_polynomial_element import OrePolynomial1"
   ]
  },
  {
   "cell_type": "code",
   "execution_count": 3,
   "metadata": {},
   "outputs": [],
   "source": [
    "def llcm_multiple(Ore, L):\n",
    "    n = len(L)\n",
    "    if n == 1:\n",
    "        return L[0]\n",
    "    elif n == 2:\n",
    "        return L[0].llcm(L[1])\n",
    "    else:\n",
    "        temp = L[0].llcm(L[1])\n",
    "        for i in range(2, len(L)):\n",
    "            temp = temp.llcm(L[i])\n",
    "        return temp"
   ]
  },
  {
   "cell_type": "code",
   "execution_count": 22,
   "metadata": {},
   "outputs": [],
   "source": [
    "A.<t> = GF(3)[]\n",
    "K = A.fraction_field()\n",
    "theta = End(K).identity()\n",
    "delta = K.derivation()\n",
    "D = OrePolynomialRing1(K, theta, delta, \"X\")"
   ]
  },
  {
   "cell_type": "code",
   "execution_count": 23,
   "metadata": {},
   "outputs": [],
   "source": [
    "def gamma(c, g, P):\n",
    "    res = []\n",
    "    for i in range(len(c)):\n",
    "        res += [P(c[i], g[i])]\n",
    "    return vector(res)\n",
    "            "
   ]
  },
  {
   "cell_type": "code",
   "execution_count": 24,
   "metadata": {},
   "outputs": [],
   "source": [
    "def erreur(A, n, rang):\n",
    "    p = A.characteristic()\n",
    "    t = A.gen()\n",
    "    f1 = [A.random_element() for _ in range(rang/2)]\n",
    "    f2 = [A.random_element() for _ in range(rang/2)]\n",
    "    err = [sum(A.random_element()(t^p) * f1[j] for j in range(rang/2)) for _ in range(n)] + [sum(A.random_element()(t^p) * f1[j] for j in range(rang/2)) for _ in range(n)]\n",
    "    return vector(err)"
   ]
  },
  {
   "cell_type": "code",
   "execution_count": 25,
   "metadata": {},
   "outputs": [],
   "source": [
    "def Ann(Ore, delta, theta, c, L):\n",
    "    n = len(L)\n",
    "    L1 = []\n",
    "    for i in range(n):\n",
    "        if L[i] == 0:\n",
    "            L1 += [OrePolynomial1(Ore, [0, 1])]\n",
    "        else:\n",
    "            temp = (delta(L[i]) + c[i]*theta(L[i]))\n",
    "            L1 += [OrePolynomial1(Ore, [-temp/L[i], 1])]\n",
    "    return llcm_multiple(Ore, L1)"
   ]
  },
  {
   "cell_type": "code",
   "execution_count": 26,
   "metadata": {},
   "outputs": [],
   "source": [
    "def Inter(Ore, delta, theta, c, g, y):\n",
    "    res = OrePolynomial1(Ore, [0])\n",
    "    for i in range(len(g)):\n",
    "        g1 = g[:i] + g[i+1:]\n",
    "        c1 = c[:i] + c[i+1:]\n",
    "        temp = Ann(Ore, delta, theta, c1, g1)\n",
    "        if temp(c[i], g[i]) != 0:\n",
    "            res += OrePolynomial1(Ore, [y[i]/temp(c[i], g[i])]) * temp \n",
    "    return res"
   ]
  },
  {
   "cell_type": "code",
   "execution_count": 27,
   "metadata": {},
   "outputs": [],
   "source": [
    "def decodage(Ore, G0, G1, n, k):\n",
    "    R = [G0, G1]\n",
    "    U = [OrePolynomial1(Ore, [1]), OrePolynomial1(Ore, [0])]\n",
    "    V = [OrePolynomial1(Ore, [0]), OrePolynomial1(Ore, [1])]\n",
    "    i = 1\n",
    "    while R[i].degree() >= (n+k)/2:\n",
    "        Q, r = R[i-1].div_euc(R[i])\n",
    "        U += [U[i-1] - Q*U[i]]\n",
    "        V += [V[i-1] - Q*V[i]]\n",
    "        R += [r]\n",
    "        i += 1\n",
    "    Q, r = R[i].div_euc(V[i], sens=\"left\")\n",
    "    if r.is_zero() and Q.degree() < k:\n",
    "        return Q\n",
    "    else:\n",
    "        raise ValueError(\"Erreur de décodage, trop d'erreurs.\")"
   ]
  },
  {
   "cell_type": "code",
   "execution_count": 48,
   "metadata": {},
   "outputs": [],
   "source": [
    "c = [i for i in range(2) for _ in range(3)]\n",
    "g = [t^j for i in range(2) for j in range(3)]"
   ]
  },
  {
   "cell_type": "code",
   "execution_count": 49,
   "metadata": {},
   "outputs": [
    {
     "data": {
      "text/plain": [
       "[0, 0, 0, 1, 1, 1]"
      ]
     },
     "execution_count": 49,
     "metadata": {},
     "output_type": "execute_result"
    }
   ],
   "source": [
    "c"
   ]
  },
  {
   "cell_type": "code",
   "execution_count": 50,
   "metadata": {},
   "outputs": [
    {
     "data": {
      "text/plain": [
       "[1, t, t^2, 1, t, t^2]"
      ]
     },
     "execution_count": 50,
     "metadata": {},
     "output_type": "execute_result"
    }
   ],
   "source": [
    "g"
   ]
  },
  {
   "cell_type": "code",
   "execution_count": 51,
   "metadata": {},
   "outputs": [],
   "source": [
    "P = OrePolynomial1(D, [1,t^2])"
   ]
  },
  {
   "cell_type": "code",
   "execution_count": 52,
   "metadata": {},
   "outputs": [
    {
     "data": {
      "text/plain": [
       "t^2*X + 1"
      ]
     },
     "execution_count": 52,
     "metadata": {},
     "output_type": "execute_result"
    }
   ],
   "source": [
    "P"
   ]
  },
  {
   "cell_type": "code",
   "execution_count": 47,
   "metadata": {},
   "outputs": [],
   "source": [
    "P.__call__??"
   ]
  },
  {
   "cell_type": "code",
   "execution_count": 53,
   "metadata": {},
   "outputs": [
    {
     "data": {
      "text/plain": [
       "(1, t^2 + t, 2*t^3 + t^2, t^2 + 1, t^3 + t^2 + t, t^4 + 2*t^3 + t^2)"
      ]
     },
     "execution_count": 53,
     "metadata": {},
     "output_type": "execute_result"
    }
   ],
   "source": [
    "m = gamma(c, g, P)\n",
    "m"
   ]
  },
  {
   "cell_type": "code",
   "execution_count": 65,
   "metadata": {},
   "outputs": [],
   "source": [
    "err = vector([1,t^3,2*t^3,t+1,0,t^4+t^3])"
   ]
  },
  {
   "cell_type": "code",
   "execution_count": 66,
   "metadata": {},
   "outputs": [
    {
     "data": {
      "text/plain": [
       "(2, t^3 + t^2 + t, t^3 + t^2, t^2 + t + 2, t^3 + t^2 + t, 2*t^4 + t^2)"
      ]
     },
     "execution_count": 66,
     "metadata": {},
     "output_type": "execute_result"
    }
   ],
   "source": [
    "C = m + err\n",
    "C"
   ]
  },
  {
   "cell_type": "code",
   "execution_count": 67,
   "metadata": {},
   "outputs": [
    {
     "name": "stdout",
     "output_type": "stream",
     "text": [
      "CPU times: user 40 ms, sys: 4 ms, total: 44 ms\n",
      "Wall time: 43.4 ms\n"
     ]
    },
    {
     "data": {
      "text/plain": [
       "X^6 + 2*X^3"
      ]
     },
     "execution_count": 67,
     "metadata": {},
     "output_type": "execute_result"
    }
   ],
   "source": [
    "%time L = Ann(D, delta, theta, c, g)\n",
    "L"
   ]
  },
  {
   "cell_type": "code",
   "execution_count": 82,
   "metadata": {},
   "outputs": [
    {
     "name": "stdout",
     "output_type": "stream",
     "text": [
      "CPU times: user 148 ms, sys: 12 ms, total: 160 ms\n",
      "Wall time: 140 ms\n"
     ]
    },
    {
     "data": {
      "text/plain": [
       "((2*t^4 + t^3 + 2*t^2)/(t + 2))*X^5 + (2*t^4 + t^2)*X^4 + (2*t^4 + t^3 + 2*t)*X^3 + ((2*t^5 + 2*t^2)/(t + 2))*X^2 + (t^3 + t^2 + 2*t)*X + 2"
      ]
     },
     "execution_count": 82,
     "metadata": {},
     "output_type": "execute_result"
    }
   ],
   "source": [
    "%time Ptilde = Inter(D, delta, theta, c, g, C)\n",
    "Ptilde"
   ]
  },
  {
   "cell_type": "code",
   "execution_count": 92,
   "metadata": {},
   "outputs": [
    {
     "data": {
      "text/plain": [
       "(2*t^4 + t^2)*X^4 + (2*t^4 + t^3 + 2*t)*X^3 + (2*t^4 + t^3 + 2*t^2)*X^2 + (t^3 + t^2 + 2*t)*X + 2"
      ]
     },
     "execution_count": 92,
     "metadata": {},
     "output_type": "execute_result"
    }
   ],
   "source": [
    "Ptilde = OrePolynomial1(D, [2, t^3 + t^2 + 2*t, 2*t^4 + t^3 + 2*t^2, 2*t^4 + t^3 + 2*t, 2*t^4+t^2])\n",
    "Ptilde"
   ]
  },
  {
   "cell_type": "code",
   "execution_count": 93,
   "metadata": {},
   "outputs": [
    {
     "data": {
      "text/plain": [
       "2*t^4 + t^2"
      ]
     },
     "execution_count": 93,
     "metadata": {},
     "output_type": "execute_result"
    }
   ],
   "source": [
    "Ptilde(1,t^2)"
   ]
  },
  {
   "cell_type": "code",
   "execution_count": 94,
   "metadata": {},
   "outputs": [
    {
     "name": "stdout",
     "output_type": "stream",
     "text": [
      "CPU times: user 16 ms, sys: 0 ns, total: 16 ms\n",
      "Wall time: 11.4 ms\n"
     ]
    }
   ],
   "source": [
    "%time Q = decodage(D, L, Ptilde, len(c), 2)"
   ]
  },
  {
   "cell_type": "code",
   "execution_count": 80,
   "metadata": {},
   "outputs": [
    {
     "data": {
      "text/plain": [
       "t^2*X + 1"
      ]
     },
     "execution_count": 80,
     "metadata": {},
     "output_type": "execute_result"
    }
   ],
   "source": [
    "P"
   ]
  },
  {
   "cell_type": "code",
   "execution_count": 81,
   "metadata": {},
   "outputs": [
    {
     "data": {
      "text/plain": [
       "t^2*X + 1"
      ]
     },
     "execution_count": 81,
     "metadata": {},
     "output_type": "execute_result"
    }
   ],
   "source": [
    "Q"
   ]
  },
  {
   "cell_type": "code",
   "execution_count": 95,
   "metadata": {},
   "outputs": [
    {
     "data": {
      "text/plain": [
       "(2*t^4 + t^2)*X^4 + (2*t^4 + t^3 + 2*t)*X^3 + (2*t^4 + t^3 + 2*t^2)*X^2 + (t^3 + t^2 + 2*t)*X + 2"
      ]
     },
     "execution_count": 95,
     "metadata": {},
     "output_type": "execute_result"
    }
   ],
   "source": [
    "Ptilde"
   ]
  },
  {
   "cell_type": "code",
   "execution_count": 96,
   "metadata": {},
   "outputs": [
    {
     "data": {
      "text/plain": [
       "X^6 + 2*X^3"
      ]
     },
     "execution_count": 96,
     "metadata": {},
     "output_type": "execute_result"
    }
   ],
   "source": [
    "L"
   ]
  },
  {
   "cell_type": "code",
   "execution_count": 98,
   "metadata": {},
   "outputs": [],
   "source": [
    "Q, R = L.div_euc(Ptilde)"
   ]
  },
  {
   "cell_type": "code",
   "execution_count": 99,
   "metadata": {},
   "outputs": [
    {
     "data": {
      "text/plain": [
       "(2/(t^4 + 2*t^2))*X^2 + (1/(t^4 + 2*t^3 + 2*t^2 + t))*X"
      ]
     },
     "execution_count": 99,
     "metadata": {},
     "output_type": "execute_result"
    }
   ],
   "source": [
    "Q"
   ]
  },
  {
   "cell_type": "code",
   "execution_count": 100,
   "metadata": {},
   "outputs": [
    {
     "data": {
      "text/plain": [
       "(1/(t^2 + 2))*X^3 + ((2*t^3 + t^2 + 2)/(t^5 + 2*t^4 + 2*t^3 + t^2))*X^2 + (1/(t^3 + t^2))*X"
      ]
     },
     "execution_count": 100,
     "metadata": {},
     "output_type": "execute_result"
    }
   ],
   "source": [
    "R"
   ]
  },
  {
   "cell_type": "code",
   "execution_count": 108,
   "metadata": {},
   "outputs": [],
   "source": [
    "R = (t^5 + 2*t^4 + 2*t^3 + t^2)*Q*Ptilde - (t^5 + 2*t^4 + 2*t^3 + t^2)*L"
   ]
  },
  {
   "cell_type": "code",
   "execution_count": 109,
   "metadata": {},
   "outputs": [],
   "source": [
    "U = (t^5 + 2*t^4 + 2*t^3 + t^2)*Q"
   ]
  },
  {
   "cell_type": "code",
   "execution_count": 110,
   "metadata": {},
   "outputs": [],
   "source": [
    "V = t^5 + 2*t^4 + 2*t^3 + t^2"
   ]
  },
  {
   "cell_type": "code",
   "execution_count": 111,
   "metadata": {},
   "outputs": [
    {
     "data": {
      "text/plain": [
       "(2*t^3 + t^2)*X^3 + (t^3 + 2*t^2 + 1)*X^2 + (2*t^2 + 2*t + 2)*X"
      ]
     },
     "execution_count": 111,
     "metadata": {},
     "output_type": "execute_result"
    }
   ],
   "source": [
    "U*Ptilde - V*L"
   ]
  },
  {
   "cell_type": "code",
   "execution_count": 112,
   "metadata": {},
   "outputs": [
    {
     "data": {
      "text/plain": [
       "(2*t^3 + t^2)*X^3 + (t^3 + 2*t^2 + 1)*X^2 + (2*t^2 + 2*t + 2)*X"
      ]
     },
     "execution_count": 112,
     "metadata": {},
     "output_type": "execute_result"
    }
   ],
   "source": [
    "R"
   ]
  },
  {
   "cell_type": "code",
   "execution_count": 114,
   "metadata": {},
   "outputs": [
    {
     "data": {
      "text/plain": [
       "(2*t^3 + t^2)*X^3 + (t^3 + 2*t^2 + 1)*X^2 + (2*t^2 + 2*t + 2)*X"
      ]
     },
     "execution_count": 114,
     "metadata": {},
     "output_type": "execute_result"
    }
   ],
   "source": [
    "U*P"
   ]
  },
  {
   "cell_type": "code",
   "execution_count": null,
   "metadata": {},
   "outputs": [],
   "source": []
  }
 ],
 "metadata": {
  "kernelspec": {
   "display_name": "SageMath 8.5.beta1",
   "language": "",
   "name": "sagemath"
  },
  "language_info": {
   "codemirror_mode": {
    "name": "ipython",
    "version": 2
   },
   "file_extension": ".py",
   "mimetype": "text/x-python",
   "name": "python",
   "nbconvert_exporter": "python",
   "pygments_lexer": "ipython2",
   "version": "2.7.15"
  }
 },
 "nbformat": 4,
 "nbformat_minor": 2
}
